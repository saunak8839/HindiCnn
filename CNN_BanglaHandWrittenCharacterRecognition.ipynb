{
 "cells": [
  {
   "cell_type": "markdown",
   "metadata": {},
   "source":[]
  },
  {
   "cell_type": "markdown",
   "metadata": {},
   "source": [
    "## Creating the CNN model"
   ]
  },
  {
   "cell_type": "code",
   "execution_count": 1,
   "metadata": {},
   "outputs": [],
   "source": [
    "from keras.models import Sequential\n",
    "from keras.layers import Conv2D, MaxPooling2D, Flatten, Dense, Dropout"
   ]
  },
  {
   "cell_type": "code",
   "execution_count": 2,
   "metadata": {},
   "outputs": [],
   "source": [
    "classifier = Sequential()\n",
    "\n",
    "classifier.add(Conv2D(filters = 128, kernel_size = (3, 3), activation = 'relu', input_shape = (40, 40, 3)))\n",
    "classifier.add(MaxPooling2D(pool_size = (2, 2)))\n",
    "classifier.add(Dropout(.2))\n",
    "\n",
    "classifier.add(Conv2D(filters = 64, kernel_size = (3, 3), activation = 'relu'))\n",
    "classifier.add(MaxPooling2D(pool_size = (2, 2)))\n",
    "classifier.add(Dropout(.2))\n",
    "\n",
    "classifier.add(Flatten())\n",
    "\n",
    "classifier.add(Dense(units = 128, activation = 'relu'))\n",
    "classifier.add(Dropout(.2))\n",
    "\n",
    "classifier.add(Dense(units = 50, activation = 'softmax'))\n",
    "\n",
    "classifier.compile(optimizer = 'adam', loss = 'categorical_crossentropy', metrics = ['accuracy'])"
   ]
  },
  {
   "cell_type": "markdown",
   "metadata": {},
   "source": [
    "## Fitting the CNN model to the Dataset"
   ]
  },
  {
   "cell_type": "code",
   "execution_count": 3,
   "metadata": {},
   "outputs": [
    {
     "name": "stdout",
     "output_type": "stream",
     "text": [
      "Name: Pillow\n",
      "Version: 9.3.0\n",
      "Summary: Python Imaging Library (Fork)\n",
      "Home-page: https://python-pillow.org\n",
      "Author: Alex Clark (PIL Fork Author)\n",
      "Author-email: aclark@python-pillow.org\n",
      "License: HPND\n",
      "Location: c:\\users\\ghosh\\appdata\\local\\programs\\python\\python39\\lib\\site-packages\n",
      "Requires: \n",
      "Required-by: image, matplotlib\n",
      "Note: you may need to restart the kernel to use updated packages.\n"
     ]
    },
    {
     "name": "stderr",
     "output_type": "stream",
     "text": [
      "WARNING: Ignoring invalid distribution -illow (c:\\users\\ghosh\\appdata\\local\\programs\\python\\python39\\lib\\site-packages)\n"
     ]
    }
   ],
   "source": [
    "pip show pillow"
   ]
  },
  {
   "cell_type": "code",
   "execution_count": 4,
   "metadata": {},
   "outputs": [],
   "source": [
    "from keras.preprocessing.image import ImageDataGenerator\n",
    "from PIL import ImageFile"
   ]
  },
  {
   "cell_type": "code",
   "execution_count": 5,
   "metadata": {},
   "outputs": [
    {
     "name": "stdout",
     "output_type": "stream",
     "text": [
      "Found 12000 images belonging to 50 classes.\n",
      "Found 3000 images belonging to 50 classes.\n"
     ]
    }
   ],
   "source": [
    "ImageFile.LOAD_TRUNCATED_IMAGES = True\n",
    "\n",
    "train_datagen = ImageDataGenerator(rescale = 1./255, shear_range = .2, rotation_range = 25)\n",
    "test_datagen = ImageDataGenerator(rescale = 1./255)\n",
    "\n",
    "training_set = train_datagen.flow_from_directory('Dataset/Dataset/Train', target_size = (40, 40), \n",
    "                                                 batch_size = 1, class_mode = 'categorical')\n",
    "test_set = test_datagen.flow_from_directory('Dataset/Dataset/Test', target_size = (40, 40), \n",
    "                                                 batch_size = 1, class_mode = 'categorical')"
   ]
  },
  {
   "cell_type": "code",
   "execution_count": 6,
   "metadata": {},
   "outputs": [
    {
     "data": {
      "text/plain": [
       "12000"
      ]
     },
     "execution_count": 6,
     "metadata": {},
     "output_type": "execute_result"
    }
   ],
   "source": [
    "len(training_set)"
   ]
  },
  {
   "cell_type": "code",
   "execution_count": 7,
   "metadata": {},
   "outputs": [
    {
     "data": {
      "text/plain": [
       "3000"
      ]
     },
     "execution_count": 7,
     "metadata": {},
     "output_type": "execute_result"
    }
   ],
   "source": [
    "len(test_set)"
   ]
  },
  {
   "cell_type": "code",
   "execution_count": 8,
   "metadata": {
    "scrolled": false
   },
   "outputs": [
    {
     "name": "stdout",
     "output_type": "stream",
     "text": [
      "Epoch 1/50\n"
     ]
    },
    {
     "name": "stderr",
     "output_type": "stream",
     "text": [
      "C:\\Users\\ghosh\\AppData\\Local\\Temp\\ipykernel_15276\\2745727461.py:1: UserWarning: `Model.fit_generator` is deprecated and will be removed in a future version. Please use `Model.fit`, which supports generators.\n",
      "  classifier.fit_generator(training_set, steps_per_epoch = 12000, epochs = 50,\n"
     ]
    },
    {
     "name": "stdout",
     "output_type": "stream",
     "text": [
      "12000/12000 [==============================] - 200s 17ms/step - loss: 2.4825 - accuracy: 0.3352 - val_loss: 1.1100 - val_accuracy: 0.6700\n",
      "Epoch 2/50\n",
      "12000/12000 [==============================] - 159s 13ms/step - loss: 1.4209 - accuracy: 0.5893 - val_loss: 0.8456 - val_accuracy: 0.7603\n",
      "Epoch 3/50\n",
      "12000/12000 [==============================] - 158s 13ms/step - loss: 1.2483 - accuracy: 0.6353 - val_loss: 0.8506 - val_accuracy: 0.7507\n",
      "Epoch 4/50\n",
      "12000/12000 [==============================] - 185s 15ms/step - loss: 1.1221 - accuracy: 0.6716 - val_loss: 0.6778 - val_accuracy: 0.8083\n",
      "Epoch 5/50\n",
      "12000/12000 [==============================] - 202s 17ms/step - loss: 1.0728 - accuracy: 0.6792 - val_loss: 0.7094 - val_accuracy: 0.7907\n",
      "Epoch 6/50\n",
      "12000/12000 [==============================] - 230s 19ms/step - loss: 1.0260 - accuracy: 0.7032 - val_loss: 0.6149 - val_accuracy: 0.8203\n",
      "Epoch 7/50\n",
      "12000/12000 [==============================] - 220s 18ms/step - loss: 0.9643 - accuracy: 0.7112 - val_loss: 0.6103 - val_accuracy: 0.8227\n",
      "Epoch 8/50\n",
      "12000/12000 [==============================] - 231s 19ms/step - loss: 0.9333 - accuracy: 0.7254 - val_loss: 0.6063 - val_accuracy: 0.8270\n",
      "Epoch 9/50\n",
      "12000/12000 [==============================] - 195s 16ms/step - loss: 0.9165 - accuracy: 0.7328 - val_loss: 0.6478 - val_accuracy: 0.8237\n",
      "Epoch 10/50\n",
      "12000/12000 [==============================] - 186s 16ms/step - loss: 0.9079 - accuracy: 0.7338 - val_loss: 0.6093 - val_accuracy: 0.8273\n",
      "Epoch 11/50\n",
      "12000/12000 [==============================] - 146s 12ms/step - loss: 0.8903 - accuracy: 0.7400 - val_loss: 0.6420 - val_accuracy: 0.8167\n",
      "Epoch 12/50\n",
      "12000/12000 [==============================] - 123s 10ms/step - loss: 0.8817 - accuracy: 0.7448 - val_loss: 0.6729 - val_accuracy: 0.7990\n",
      "Epoch 13/50\n",
      "12000/12000 [==============================] - 123s 10ms/step - loss: 0.8638 - accuracy: 0.7462 - val_loss: 0.6016 - val_accuracy: 0.8270\n",
      "Epoch 14/50\n",
      "12000/12000 [==============================] - 263s 22ms/step - loss: 0.8837 - accuracy: 0.7483 - val_loss: 0.5680 - val_accuracy: 0.8400\n",
      "Epoch 15/50\n",
      "12000/12000 [==============================] - 266s 22ms/step - loss: 0.8709 - accuracy: 0.7434 - val_loss: 0.6556 - val_accuracy: 0.8120\n",
      "Epoch 16/50\n",
      "12000/12000 [==============================] - 179s 15ms/step - loss: 0.8596 - accuracy: 0.7484 - val_loss: 0.6195 - val_accuracy: 0.8190\n",
      "Epoch 17/50\n",
      "12000/12000 [==============================] - 146s 12ms/step - loss: 0.8438 - accuracy: 0.7534 - val_loss: 0.5282 - val_accuracy: 0.8527\n",
      "Epoch 18/50\n",
      "12000/12000 [==============================] - 134s 11ms/step - loss: 0.8214 - accuracy: 0.7604 - val_loss: 0.5375 - val_accuracy: 0.8507\n",
      "Epoch 19/50\n",
      "12000/12000 [==============================] - 133s 11ms/step - loss: 0.8718 - accuracy: 0.7501 - val_loss: 0.6298 - val_accuracy: 0.8253\n",
      "Epoch 20/50\n",
      "12000/12000 [==============================] - 132s 11ms/step - loss: 0.8576 - accuracy: 0.7523 - val_loss: 0.5451 - val_accuracy: 0.8487\n",
      "Epoch 21/50\n",
      "12000/12000 [==============================] - 137s 11ms/step - loss: 0.8538 - accuracy: 0.7492 - val_loss: 0.5762 - val_accuracy: 0.8343\n",
      "Epoch 22/50\n",
      "12000/12000 [==============================] - 138s 12ms/step - loss: 0.8676 - accuracy: 0.7532 - val_loss: 0.6584 - val_accuracy: 0.8130\n",
      "Epoch 23/50\n",
      "12000/12000 [==============================] - 135s 11ms/step - loss: 0.8613 - accuracy: 0.7523 - val_loss: 0.5614 - val_accuracy: 0.8287\n",
      "Epoch 24/50\n",
      "12000/12000 [==============================] - 135s 11ms/step - loss: 0.8349 - accuracy: 0.7588 - val_loss: 0.7783 - val_accuracy: 0.7790\n",
      "Epoch 25/50\n",
      "12000/12000 [==============================] - 135s 11ms/step - loss: 0.8347 - accuracy: 0.7610 - val_loss: 0.5235 - val_accuracy: 0.8540\n",
      "Epoch 26/50\n",
      "12000/12000 [==============================] - 140s 12ms/step - loss: 0.8486 - accuracy: 0.7551 - val_loss: 0.5636 - val_accuracy: 0.8390\n",
      "Epoch 27/50\n",
      "12000/12000 [==============================] - 143s 12ms/step - loss: 0.8445 - accuracy: 0.7610 - val_loss: 0.5564 - val_accuracy: 0.8507\n",
      "Epoch 28/50\n",
      "12000/12000 [==============================] - 114s 10ms/step - loss: 0.8392 - accuracy: 0.7626 - val_loss: 0.5679 - val_accuracy: 0.8557\n",
      "Epoch 29/50\n",
      "12000/12000 [==============================] - 107s 9ms/step - loss: 0.8546 - accuracy: 0.7559 - val_loss: 0.5221 - val_accuracy: 0.8490\n",
      "Epoch 30/50\n",
      "12000/12000 [==============================] - 113s 9ms/step - loss: 0.8325 - accuracy: 0.7624 - val_loss: 0.6593 - val_accuracy: 0.8130\n",
      "Epoch 31/50\n",
      "12000/12000 [==============================] - 109s 9ms/step - loss: 0.8545 - accuracy: 0.7572 - val_loss: 0.5315 - val_accuracy: 0.8577\n",
      "Epoch 32/50\n",
      "12000/12000 [==============================] - 108s 9ms/step - loss: 0.8423 - accuracy: 0.7616 - val_loss: 0.7180 - val_accuracy: 0.8043\n",
      "Epoch 33/50\n",
      "12000/12000 [==============================] - 109s 9ms/step - loss: 0.8679 - accuracy: 0.7590 - val_loss: 0.5840 - val_accuracy: 0.8283\n",
      "Epoch 34/50\n",
      "12000/12000 [==============================] - 108s 9ms/step - loss: 0.8346 - accuracy: 0.7670 - val_loss: 0.5696 - val_accuracy: 0.8450\n",
      "Epoch 35/50\n",
      "12000/12000 [==============================] - 109s 9ms/step - loss: 0.8778 - accuracy: 0.7590 - val_loss: 0.6570 - val_accuracy: 0.8030\n",
      "Epoch 36/50\n",
      "12000/12000 [==============================] - 112s 9ms/step - loss: 0.8528 - accuracy: 0.7657 - val_loss: 0.6889 - val_accuracy: 0.7977\n",
      "Epoch 37/50\n",
      "12000/12000 [==============================] - 111s 9ms/step - loss: 0.8806 - accuracy: 0.7542 - val_loss: 0.5304 - val_accuracy: 0.8547\n",
      "Epoch 38/50\n",
      "12000/12000 [==============================] - 112s 9ms/step - loss: 0.8797 - accuracy: 0.7564 - val_loss: 0.6269 - val_accuracy: 0.8230\n",
      "Epoch 39/50\n",
      "12000/12000 [==============================] - 121s 10ms/step - loss: 0.8631 - accuracy: 0.7617 - val_loss: 0.6455 - val_accuracy: 0.8210\n",
      "Epoch 40/50\n",
      "12000/12000 [==============================] - 117s 10ms/step - loss: 0.8740 - accuracy: 0.7590 - val_loss: 0.5525 - val_accuracy: 0.8557\n",
      "Epoch 41/50\n",
      "12000/12000 [==============================] - 119s 10ms/step - loss: 0.8750 - accuracy: 0.7626 - val_loss: 1.1603 - val_accuracy: 0.6907\n",
      "Epoch 42/50\n",
      "12000/12000 [==============================] - 120s 10ms/step - loss: 0.8913 - accuracy: 0.7555 - val_loss: 0.6535 - val_accuracy: 0.8367\n",
      "Epoch 43/50\n",
      "12000/12000 [==============================] - 121s 10ms/step - loss: 0.9227 - accuracy: 0.7502 - val_loss: 0.6950 - val_accuracy: 0.8017\n",
      "Epoch 44/50\n",
      "12000/12000 [==============================] - 122s 10ms/step - loss: 0.9593 - accuracy: 0.7381 - val_loss: 0.6809 - val_accuracy: 0.8137\n",
      "Epoch 45/50\n",
      "12000/12000 [==============================] - 124s 10ms/step - loss: 0.9356 - accuracy: 0.7473 - val_loss: 0.5347 - val_accuracy: 0.8580\n",
      "Epoch 46/50\n",
      "12000/12000 [==============================] - 124s 10ms/step - loss: 0.9029 - accuracy: 0.7546 - val_loss: 0.5768 - val_accuracy: 0.8447\n",
      "Epoch 47/50\n",
      "12000/12000 [==============================] - 134s 11ms/step - loss: 0.9232 - accuracy: 0.7489 - val_loss: 0.7320 - val_accuracy: 0.7907\n",
      "Epoch 48/50\n",
      "12000/12000 [==============================] - 130s 11ms/step - loss: 0.8945 - accuracy: 0.7551 - val_loss: 0.7042 - val_accuracy: 0.8010\n",
      "Epoch 49/50\n",
      "12000/12000 [==============================] - 128s 11ms/step - loss: 0.9187 - accuracy: 0.7505 - val_loss: 0.6422 - val_accuracy: 0.8180\n",
      "Epoch 50/50\n",
      "12000/12000 [==============================] - 132s 11ms/step - loss: 0.9377 - accuracy: 0.7498 - val_loss: 0.6540 - val_accuracy: 0.8123\n"
     ]
    },
    {
     "data": {
      "text/plain": [
       "<keras.callbacks.History at 0x161426f4ac0>"
      ]
     },
     "execution_count": 8,
     "metadata": {},
     "output_type": "execute_result"
    }
   ],
   "source": [
    "classifier.fit_generator(training_set, steps_per_epoch = 12000, epochs = 50,\n",
    "                        validation_data = test_set, validation_steps = 3000)"
   ]
  },
  {
   "cell_type": "code",
   "execution_count": 10,
   "metadata": {},
   "outputs": [
    {
     "name": "stdout",
     "output_type": "stream",
     "text": [
      "Model: \"sequential\"\n",
      "_________________________________________________________________\n",
      " Layer (type)                Output Shape              Param #   \n",
      "=================================================================\n",
      " conv2d (Conv2D)             (None, 38, 38, 128)       3584      \n",
      "                                                                 \n",
      " max_pooling2d (MaxPooling2D  (None, 19, 19, 128)      0         \n",
      " )                                                               \n",
      "                                                                 \n",
      " dropout (Dropout)           (None, 19, 19, 128)       0         \n",
      "                                                                 \n",
      " conv2d_1 (Conv2D)           (None, 17, 17, 64)        73792     \n",
      "                                                                 \n",
      " max_pooling2d_1 (MaxPooling  (None, 8, 8, 64)         0         \n",
      " 2D)                                                             \n",
      "                                                                 \n",
      " dropout_1 (Dropout)         (None, 8, 8, 64)          0         \n",
      "                                                                 \n",
      " flatten (Flatten)           (None, 4096)              0         \n",
      "                                                                 \n",
      " dense (Dense)               (None, 128)               524416    \n",
      "                                                                 \n",
      " dropout_2 (Dropout)         (None, 128)               0         \n",
      "                                                                 \n",
      " dense_1 (Dense)             (None, 50)                6450      \n",
      "                                                                 \n",
      "=================================================================\n",
      "Total params: 608,242\n",
      "Trainable params: 608,242\n",
      "Non-trainable params: 0\n",
      "_________________________________________________________________\n"
     ]
    }
   ],
   "source": [
    "classifier.summary()"
   ]
  },
  {
   "cell_type": "markdown",
   "metadata": {},
   "source": [
    "## Saving the model"
   ]
  },
  {
   "cell_type": "code",
   "execution_count": 11,
   "metadata": {
    "scrolled": true
   },
   "outputs": [
    {
     "name": "stdout",
     "output_type": "stream",
     "text": [
      "Saved model to disk\n"
     ]
    }
   ],
   "source": [
    "classifier_json = classifier.to_json()\n",
    "\n",
    "with open(\"CNN_BanglaHandWrittenCharacterRecognition.json\", \"w\") as json_file:\n",
    "    json_file.write(classifier_json)\n",
    "    \n",
    "classifier.save_weights(\"CNN_BanglaHandWrittenCharacterRecognition.h5\")\n",
    "print('Saved model to disk')"
   ]
  },
  {
   "cell_type": "code",
   "execution_count": 12,
   "metadata": {},
   "outputs": [],
   "source": [
    "from tensorflow.keras.preprocessing import image\n"
   ]
  },
  {
   "cell_type": "markdown",
   "metadata": {},
   "source": [
    "## Creating a graphical user interface to draw the character"
   ]
  },
  {
   "cell_type": "code",
   "execution_count": 13,
   "metadata": {},
   "outputs": [],
   "source": [
    "import PIL\n",
    "from PIL import ImageTk, ImageDraw, Image\n",
    "from tkinter import *\n",
    "import os"
   ]
  },
  {
   "cell_type": "code",
   "execution_count": 14,
   "metadata": {},
   "outputs": [],
   "source": [
    "def create_new_image():\n",
    "    width = 256\n",
    "    height = 256\n",
    "    center = height // 2\n",
    "    white = (255, 255, 255)\n",
    "    green = (0, 128, 0)\n",
    "    \n",
    "    def save():\n",
    "        filename = 'C:/Users/ghosh/Desktop/Projects/Bangla-Handwritten-Character-Recognition-main/Dataset/Dataset/SinglePrediction/image.jpg'\n",
    "        image.save(filename)\n",
    "        \n",
    "    def paint(event):\n",
    "        x1, y1 = (event.x - 1), (event.y - 1)\n",
    "        x2, y2 = (event.x + 1), (event.y + 1)\n",
    "        cv.create_oval(x1, y1, x2, y2, fill = 'black', width = 30)\n",
    "        draw.line([x1, y1, x2, y2], fill = 'black', width = 30)\n",
    "        \n",
    "    root = Tk()\n",
    "    \n",
    "    cv = Canvas(root, width = width, height = height, bg = 'white')\n",
    "    cv.pack()\n",
    "    \n",
    "    image = PIL.Image.new('RGB', (width, height), white)\n",
    "    draw = ImageDraw.Draw(image)\n",
    "    \n",
    "    cv.pack(expand = YES, fill = BOTH)\n",
    "    cv.bind(\"<B1-Motion>\", paint)\n",
    "    \n",
    "    button = Button(text = 'Save', command = save)\n",
    "    button.pack()\n",
    "    \n",
    "    root.mainloop()"
   ]
  },
  {
   "cell_type": "code",
   "execution_count": 16,
   "metadata": {},
   "outputs": [],
   "source": [
    "def determine_character(res):\n",
    "    if res == 0:\n",
    "        print('prediction : অ')\n",
    "    elif res == 1:\n",
    "        print('prediction : আ')\n",
    "    elif res == 2:\n",
    "        print('prediction : ই')\n",
    "    elif res == 3:\n",
    "        print('prediction : ঈ')\n",
    "    elif res == 4:\n",
    "        print('prediction : উ')\n",
    "    elif res == 5:\n",
    "        print('prediction : ঊ')\n",
    "    elif res == 6:\n",
    "        print('prediction : ঋ')\n",
    "    elif res == 7:\n",
    "        print('prediction : এ')\n",
    "    elif res == 8:\n",
    "        print('prediction : ঐ')\n",
    "    elif res == 9:\n",
    "        print('prediction : ও')\n",
    "    elif res == 10:\n",
    "        print('prediction : ঔ')\n",
    "    elif res == 11:\n",
    "        print('prediction : ক')\n",
    "    elif res == 12:\n",
    "        print('prediction : খ')\n",
    "    elif res == 13:\n",
    "        print('prediction : গ')\n",
    "    elif res == 14:\n",
    "        print('prediction : ঘ')\n",
    "    elif res == 15:\n",
    "        print('prediction : ঙ')\n",
    "    elif res == 16:\n",
    "        print('prediction : চ')\n",
    "    elif res == 17:\n",
    "        print('prediction : ছ')\n",
    "    elif res == 18:\n",
    "        print('prediction : জ')\n",
    "    elif res == 19:\n",
    "        print('prediction : ঝ')\n",
    "    elif res == 20:\n",
    "        print('prediction : ঞ')\n",
    "    elif res == 21:\n",
    "        print('prediction : ট')\n",
    "    elif res == 22:\n",
    "        print('prediction : ঠ')\n",
    "    elif res == 23:\n",
    "        print('prediction : ড')\n",
    "    elif res == 24:\n",
    "        print('prediction : ঢ')\n",
    "    elif res == 25:\n",
    "        print('prediction : ণ')\n",
    "    elif res == 26:\n",
    "        print('prediction : ত')\n",
    "    elif res == 27:\n",
    "        print('prediction : থ')\n",
    "    elif res == 28:\n",
    "        print('prediction : দ')\n",
    "    elif res == 29:\n",
    "        print('prediction : ধ')\n",
    "    elif res == 30:\n",
    "        print('prediction : ন')\n",
    "    elif res == 31:\n",
    "        print('prediction : প')\n",
    "    elif res == 32:\n",
    "        print('prediction : ফ')\n",
    "    elif res == 33:\n",
    "        print('prediction : ব')\n",
    "    elif res == 34:\n",
    "        print('prediction : ভ')\n",
    "    elif res == 35:\n",
    "        print('prediction : ম')\n",
    "    elif res == 36:\n",
    "        print('prediction : য')\n",
    "    elif res == 37:\n",
    "        print('prediction : র')\n",
    "    elif res == 38:\n",
    "        print('prediction : ল')\n",
    "    elif res == 39:\n",
    "        print('prediction : শ')\n",
    "    elif res == 40:\n",
    "        print('prediction : ষ')\n",
    "    elif res == 41:\n",
    "        print('prediction : স')\n",
    "    elif res == 42:\n",
    "        print('prediction : হ')\n",
    "    elif res == 43:\n",
    "        print('prediction : ড়')\n",
    "    elif res == 44:\n",
    "        print('prediction : ঢ়')\n",
    "    elif res == 45:\n",
    "        print('prediction : য়')\n",
    "    elif res == 46:\n",
    "        print('prediction : ৎ')\n",
    "    elif res == 47:\n",
    "        print('prediction : ং')\n",
    "    elif res == 48:\n",
    "        print('prediction : ঃ')\n",
    "    else:\n",
    "        print('prediction : ঁ')"
   ]
  },
  {
   "cell_type": "code",
   "execution_count": null,
   "metadata": {},
   "outputs": [],
   "source": []
  },
  {
   "cell_type": "code",
   "execution_count": 20,
   "metadata": {},
   "outputs": [],
   "source": [
    "import numpy as np\n",
    "\n",
    "def single_prediction(test_img):\n",
    "    test_img_arr = image.img_to_array(test_img)\n",
    "    test_img_arr = np.expand_dims(test_img_arr, axis = 0)\n",
    "    prediction = classifier.predict(test_img_arr)\n",
    "    result = np.argmax(prediction, axis = 1)\n",
    "    determine_character(result)"
   ]
  },
  {
   "cell_type": "code",
   "execution_count": 21,
   "metadata": {},
   "outputs": [],
   "source": [
    "def delete_created_image():\n",
    "    os.remove('C:/Users/ghosh/Desktop/Projects/Bangla-Handwritten-Character-Recognition-main/Dataset/Dataset/SinglePrediction/image.jpg')"
   ]
  },
  {
   "cell_type": "code",
   "execution_count": 22,
   "metadata": {},
   "outputs": [],
   "source": [
    "import matplotlib.pyplot as plt\n",
    "\n",
    "def draw_n_guess_the_character():\n",
    "    create_new_image()\n",
    "    test_img = image.load_img('C:/Users/ghosh/Desktop/Projects/Bangla-Handwritten-Character-Recognition-main/Dataset/Dataset/SinglePrediction/image.jpg', target_size = (40, 40, 3))\n",
    "    single_prediction(test_img)\n",
    "    plt.imshow(test_img)\n",
    "    delete_created_image()"
   ]
  },
  {
   "cell_type": "code",
   "execution_count": 63,
   "metadata": {},
   "outputs": [
    {
     "name": "stdout",
     "output_type": "stream",
     "text": [
      "1/1 [==============================] - 0s 27ms/step\n",
      "prediction : আ\n"
     ]
    },
    {
     "data": {
      "image/png": "[encoded data removed]",
      "text/plain": [
       "<Figure size 640x480 with 1 Axes>"
      ]
     },
     "metadata": {},
     "output_type": "display_data"
    }
   ],
   "source": [
    "draw_n_guess_the_character()\n"
   ]
  }
 ],
 "metadata": {
  "kernelspec": {
   "display_name": "Python 3 (ipykernel)",
   "language": "python",
   "name": "python3"
  },
  "language_info": {
   "codemirror_mode": {
    "name": "ipython",
    "version": 3
   },
   "file_extension": ".py",
   "mimetype": "text/x-python",
   "name": "python",
   "nbconvert_exporter": "python",
   "pygments_lexer": "ipython3",
   "version": "3.9.11"
  }
 },
 "nbformat": 4,
 "nbformat_minor": 4
}
