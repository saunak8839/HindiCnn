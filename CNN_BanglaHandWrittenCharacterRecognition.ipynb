{
 "cells": [
  {
   "cell_type": "markdown",
   "metadata": {},
   "source": []
  },
  {
   "cell_type": "code",
   "execution_count": null,
   "metadata": {},
   "outputs": [],
   "source": []
  },
  {
   "cell_type": "markdown",
   "metadata": {},
   "source": [
    "## Creating the CNN model"
   ]
  },
  {
   "cell_type": "code",
   "execution_count": 6,
   "metadata": {},
   "outputs": [
    {
     "name": "stderr",
     "output_type": "stream",
     "text": [
      "c:\\Users\\Saunak\\AppData\\Local\\Programs\\Python\\Python310\\lib\\site-packages\\_distutils_hack\\__init__.py:33: UserWarning: Setuptools is replacing distutils.\n",
      "  warnings.warn(\"Setuptools is replacing distutils.\")\n"
     ]
    }
   ],
   "source": [
    "from keras.models import Sequential\n",
    "from keras.layers import Conv2D, MaxPooling2D, Flatten, Dense, Dropout\n",
    "import pip\n"
   ]
  },
  {
   "cell_type": "code",
   "execution_count": 232,
   "metadata": {},
   "outputs": [],
   "source": [
    "classifier = Sequential()\n",
    "\n",
    "classifier.add(Conv2D(filters = 32, kernel_size = (3, 3), activation = 'relu', input_shape = (28, 28, 3)))\n",
    "classifier.add(MaxPooling2D(pool_size = (2, 2),strides=2))\n",
    "#classifier.add(Dropout(.2))\n",
    "\n",
    "classifier.add(Conv2D(filters = 64, kernel_size = (3, 3), activation = 'relu',padding='same'))\n",
    "classifier.add(MaxPooling2D(pool_size = (2, 2)))\n",
    "#classifier.add(Dropout(.2))\n",
    "\n",
    "classifier.add(Conv2D(filters = 128, kernel_size = (3, 3), activation = 'relu',padding='valid'))\n",
    "classifier.add(MaxPooling2D(pool_size = (2, 2),strides=2))\n",
    "#classifier.add(Dropout(.2))\n",
    "\n",
    "\n",
    "classifier.add(Flatten())\n",
    "\n",
    "classifier.add(Dense(units = 64, activation = 'relu'))\n",
    "#classifier.add(Dropout(.2))\n",
    "classifier.add(Dense(128,activation=\"relu\"))\n",
    "\n",
    "classifier.add(Dense(units = 46, activation = 'softmax'))\n",
    "\n",
    "classifier.compile(optimizer = 'adam', loss = 'categorical_crossentropy', metrics = ['accuracy'])"
   ]
  },
  {
   "cell_type": "markdown",
   "metadata": {},
   "source": [
    "## Fitting the CNN model to the Dataset"
   ]
  },
  {
   "cell_type": "code",
   "execution_count": 214,
   "metadata": {},
   "outputs": [],
   "source": [
    "\n",
    "\n",
    "\n",
    "import scipy"
   ]
  },
  {
   "cell_type": "code",
   "execution_count": 215,
   "metadata": {},
   "outputs": [],
   "source": [
    "from keras.preprocessing.image import ImageDataGenerator\n",
    "from PIL import ImageFile"
   ]
  },
  {
   "cell_type": "code",
   "execution_count": 228,
   "metadata": {},
   "outputs": [
    {
     "name": "stdout",
     "output_type": "stream",
     "text": [
      "Found 78200 images belonging to 46 classes.\n",
      "Found 13800 images belonging to 46 classes.\n"
     ]
    }
   ],
   "source": [
    "ImageFile.LOAD_TRUNCATED_IMAGES = True\n",
    "\n",
    "train_datagen = ImageDataGenerator(rescale = 1./255, shear_range = .2, rotation_range = 25)\n",
    "test_datagen = ImageDataGenerator(rescale = 1./255)\n",
    "\n",
    "training_set = train_datagen.flow_from_directory('archive\\DevanagariHandwrittenCharacterDataset\\Train', target_size = (28, 28), \n",
    "                                                 batch_size = 1, class_mode = 'categorical')\n",
    "test_set = test_datagen.flow_from_directory('archive\\DevanagariHandwrittenCharacterDataset\\Test', target_size = (28, 28), \n",
    "                                                 batch_size = 1, class_mode = 'categorical')\n"
   ]
  },
  {
   "cell_type": "code",
   "execution_count": 224,
   "metadata": {},
   "outputs": [
    {
     "data": {
      "text/plain": [
       "78200"
      ]
     },
     "execution_count": 224,
     "metadata": {},
     "output_type": "execute_result"
    }
   ],
   "source": [
    "len(training_set)"
   ]
  },
  {
   "cell_type": "code",
   "execution_count": 225,
   "metadata": {},
   "outputs": [
    {
     "data": {
      "text/plain": [
       "13800"
      ]
     },
     "execution_count": 225,
     "metadata": {},
     "output_type": "execute_result"
    }
   ],
   "source": [
    "len(test_set)"
   ]
  },
  {
   "cell_type": "code",
   "execution_count": 235,
   "metadata": {
    "scrolled": false
   },
   "outputs": [
    {
     "name": "stdout",
     "output_type": "stream",
     "text": [
      "Epoch 1/30\n"
     ]
    },
    {
     "name": "stderr",
     "output_type": "stream",
     "text": [
      "C:\\Users\\Saunak\\AppData\\Local\\Temp\\ipykernel_21524\\593750664.py:4: UserWarning: `Model.fit_generator` is deprecated and will be removed in a future version. Please use `Model.fit`, which supports generators.\n",
      "  classifier.fit_generator(training_set, steps_per_epoch = 5000, epochs = 30,\n"
     ]
    },
    {
     "name": "stdout",
     "output_type": "stream",
     "text": [
      "5000/5000 [==============================] - 45s 9ms/step - loss: 0.5932 - accuracy: 0.8160 - val_loss: 0.4875 - val_accuracy: 0.8648 - lr: 0.0010\n",
      "Epoch 2/30\n",
      "5000/5000 [==============================] - 44s 9ms/step - loss: 0.5943 - accuracy: 0.8248 - val_loss: 0.4339 - val_accuracy: 0.8664 - lr: 0.0010\n",
      "Epoch 3/30\n",
      "5000/5000 [==============================] - 44s 9ms/step - loss: 0.5867 - accuracy: 0.8298 - val_loss: 0.4316 - val_accuracy: 0.8728 - lr: 0.0010\n",
      "Epoch 4/30\n",
      "5000/5000 [==============================] - 44s 9ms/step - loss: 0.5612 - accuracy: 0.8306 - val_loss: 0.4138 - val_accuracy: 0.8800 - lr: 0.0010\n",
      "Epoch 5/30\n",
      "5000/5000 [==============================] - 43s 9ms/step - loss: 0.5479 - accuracy: 0.8416 - val_loss: 0.4102 - val_accuracy: 0.8720 - lr: 0.0010\n",
      "Epoch 6/30\n",
      "5000/5000 [==============================] - 43s 9ms/step - loss: 0.5729 - accuracy: 0.8356 - val_loss: 0.5032 - val_accuracy: 0.8728 - lr: 0.0010\n",
      "Epoch 7/30\n",
      "5000/5000 [==============================] - 43s 9ms/step - loss: 0.5841 - accuracy: 0.8256 - val_loss: 0.4528 - val_accuracy: 0.8744 - lr: 0.0010\n",
      "Epoch 8/30\n",
      "5000/5000 [==============================] - 43s 9ms/step - loss: 0.5819 - accuracy: 0.8292 - val_loss: 0.6224 - val_accuracy: 0.8400 - lr: 0.0010\n",
      "Epoch 9/30\n",
      "5000/5000 [==============================] - 43s 9ms/step - loss: 0.5825 - accuracy: 0.8314 - val_loss: 0.5144 - val_accuracy: 0.8728 - lr: 0.0010\n",
      "Epoch 10/30\n",
      "5000/5000 [==============================] - 42s 8ms/step - loss: 0.5287 - accuracy: 0.8482 - val_loss: 0.4062 - val_accuracy: 0.8896 - lr: 0.0010\n",
      "Epoch 11/30\n",
      "5000/5000 [==============================] - 42s 8ms/step - loss: 0.5543 - accuracy: 0.8470 - val_loss: 0.7084 - val_accuracy: 0.8440 - lr: 0.0010\n",
      "Epoch 12/30\n",
      "5000/5000 [==============================] - 42s 8ms/step - loss: 0.5648 - accuracy: 0.8380 - val_loss: 0.4174 - val_accuracy: 0.8952 - lr: 0.0010\n",
      "Epoch 13/30\n",
      "5000/5000 [==============================] - 42s 8ms/step - loss: 0.5546 - accuracy: 0.8424 - val_loss: 0.4577 - val_accuracy: 0.8744 - lr: 0.0010\n",
      "Epoch 14/30\n",
      "5000/5000 [==============================] - 41s 8ms/step - loss: 0.5522 - accuracy: 0.8434 - val_loss: 0.4901 - val_accuracy: 0.8712 - lr: 0.0010\n",
      "Epoch 15/30\n",
      "5000/5000 [==============================] - 40s 8ms/step - loss: 0.5578 - accuracy: 0.8318 - val_loss: 0.5432 - val_accuracy: 0.8800 - lr: 0.0010\n",
      "Epoch 16/30\n",
      "5000/5000 [==============================] - 39s 8ms/step - loss: 0.5742 - accuracy: 0.8426 - val_loss: 0.4810 - val_accuracy: 0.8848 - lr: 0.0010\n",
      "Epoch 17/30\n",
      "5000/5000 [==============================] - 38s 8ms/step - loss: 0.5442 - accuracy: 0.8488 - val_loss: 0.4298 - val_accuracy: 0.8864 - lr: 0.0010\n",
      "Epoch 18/30\n",
      "5000/5000 [==============================] - 38s 8ms/step - loss: 0.5535 - accuracy: 0.8426 - val_loss: 0.3753 - val_accuracy: 0.9048 - lr: 0.0010\n",
      "Epoch 19/30\n",
      "5000/5000 [==============================] - 39s 8ms/step - loss: 0.5411 - accuracy: 0.8496 - val_loss: 0.5248 - val_accuracy: 0.8832 - lr: 0.0010\n",
      "Epoch 20/30\n",
      "5000/5000 [==============================] - 38s 8ms/step - loss: 0.5704 - accuracy: 0.8418 - val_loss: 0.5568 - val_accuracy: 0.8792 - lr: 0.0010\n",
      "Epoch 21/30\n",
      "5000/5000 [==============================] - 38s 8ms/step - loss: 0.5640 - accuracy: 0.8458 - val_loss: 0.4462 - val_accuracy: 0.8960 - lr: 0.0010\n",
      "Epoch 22/30\n",
      "5000/5000 [==============================] - 38s 8ms/step - loss: 0.5881 - accuracy: 0.8400 - val_loss: 0.3761 - val_accuracy: 0.9024 - lr: 0.0010\n",
      "Epoch 23/30\n",
      "5000/5000 [==============================] - 38s 8ms/step - loss: 0.5266 - accuracy: 0.8562 - val_loss: 0.6509 - val_accuracy: 0.8648 - lr: 0.0010\n",
      "Epoch 24/30\n",
      "5000/5000 [==============================] - 39s 8ms/step - loss: 0.5826 - accuracy: 0.8476 - val_loss: 0.4720 - val_accuracy: 0.8832 - lr: 0.0010\n",
      "Epoch 25/30\n",
      "5000/5000 [==============================] - 41s 8ms/step - loss: 0.5609 - accuracy: 0.8428 - val_loss: 0.4208 - val_accuracy: 0.9072 - lr: 0.0010\n",
      "Epoch 26/30\n",
      "5000/5000 [==============================] - 42s 8ms/step - loss: 0.5602 - accuracy: 0.8462 - val_loss: 0.5189 - val_accuracy: 0.8760 - lr: 0.0010\n",
      "Epoch 27/30\n",
      "5000/5000 [==============================] - 43s 9ms/step - loss: 0.5608 - accuracy: 0.8518 - val_loss: 0.4980 - val_accuracy: 0.8952 - lr: 0.0010\n",
      "Epoch 28/30\n",
      "5000/5000 [==============================] - 41s 8ms/step - loss: 0.6200 - accuracy: 0.8324 - val_loss: 0.5053 - val_accuracy: 0.8928 - lr: 0.0010\n",
      "Epoch 29/30\n",
      "5000/5000 [==============================] - 42s 8ms/step - loss: 0.6003 - accuracy: 0.8360 - val_loss: 0.3672 - val_accuracy: 0.8968 - lr: 0.0010\n",
      "Epoch 30/30\n",
      "5000/5000 [==============================] - 41s 8ms/step - loss: 0.6168 - accuracy: 0.8356 - val_loss: 0.6259 - val_accuracy: 0.8520 - lr: 0.0010\n"
     ]
    },
    {
     "data": {
      "text/plain": [
       "<keras.callbacks.History at 0x22088fbea10>"
      ]
     },
     "execution_count": 235,
     "metadata": {},
     "output_type": "execute_result"
    }
   ],
   "source": [
    "from keras.callbacks import ReduceLROnPlateau\n",
    "reduce_lr = ReduceLROnPlateau(monitor='val_loss', factor=0.2,\n",
    "                  patience=5, min_lr=0.001)\n",
    "classifier.fit_generator(training_set, steps_per_epoch = 5000, epochs = 30,\n",
    "                        validation_data = test_set, validation_steps = 1250,callbacks=[reduce_lr])"
   ]
  },
  {
   "cell_type": "code",
   "execution_count": 196,
   "metadata": {},
   "outputs": [
    {
     "name": "stdout",
     "output_type": "stream",
     "text": [
      "Model: \"sequential_18\"\n",
      "_________________________________________________________________\n",
      " Layer (type)                Output Shape              Param #   \n",
      "=================================================================\n",
      " conv2d_40 (Conv2D)          (None, 26, 26, 32)        896       \n",
      "                                                                 \n",
      " max_pooling2d_39 (MaxPoolin  (None, 13, 13, 32)       0         \n",
      " g2D)                                                            \n",
      "                                                                 \n",
      " conv2d_41 (Conv2D)          (None, 13, 13, 64)        18496     \n",
      "                                                                 \n",
      " max_pooling2d_40 (MaxPoolin  (None, 6, 6, 64)         0         \n",
      " g2D)                                                            \n",
      "                                                                 \n",
      " conv2d_42 (Conv2D)          (None, 4, 4, 128)         73856     \n",
      "                                                                 \n",
      " max_pooling2d_41 (MaxPoolin  (None, 2, 2, 128)        0         \n",
      " g2D)                                                            \n",
      "                                                                 \n",
      " flatten_15 (Flatten)        (None, 512)               0         \n",
      "                                                                 \n",
      " dense_31 (Dense)            (None, 64)                32832     \n",
      "                                                                 \n",
      " dense_32 (Dense)            (None, 128)               8320      \n",
      "                                                                 \n",
      " dense_33 (Dense)            (None, 50)                6450      \n",
      "                                                                 \n",
      "=================================================================\n",
      "Total params: 140,850\n",
      "Trainable params: 140,850\n",
      "Non-trainable params: 0\n",
      "_________________________________________________________________\n"
     ]
    }
   ],
   "source": [
    "classifier.summary()"
   ]
  },
  {
   "cell_type": "markdown",
   "metadata": {},
   "source": [
    "## Saving the model"
   ]
  },
  {
   "cell_type": "code",
   "execution_count": 236,
   "metadata": {
    "scrolled": true
   },
   "outputs": [
    {
     "name": "stdout",
     "output_type": "stream",
     "text": [
      "Saved model to disk\n"
     ]
    }
   ],
   "source": [
    "classifier_json = classifier.to_json()\n",
    "\n",
    "with open(\"CNN_HindiHandWrittenCharacterRecognition.json\", \"w\") as json_file:\n",
    "    json_file.write(classifier_json)\n",
    "    \n",
    "classifier.save_weights(\"CNN_HindiHandWrittenCharacterRecognition.h5\")\n",
    "print('Saved model to disk')"
   ]
  },
  {
   "cell_type": "code",
   "execution_count": 89,
   "metadata": {},
   "outputs": [],
   "source": [
    "from tensorflow.keras.preprocessing import image\n"
   ]
  },
  {
   "cell_type": "markdown",
   "metadata": {},
   "source": [
    "## Creating a graphical user interface to draw the character"
   ]
  },
  {
   "cell_type": "code",
   "execution_count": 90,
   "metadata": {},
   "outputs": [],
   "source": [
    "import PIL\n",
    "from PIL import ImageTk, ImageDraw, Image\n",
    "from tkinter import *\n",
    "import os"
   ]
  },
  {
   "cell_type": "code",
   "execution_count": 198,
   "metadata": {},
   "outputs": [],
   "source": [
    "def create_new_image():\n",
    "    width = 256\n",
    "    height = 256\n",
    "    center = height // 2\n",
    "    white = (255, 255, 255)\n",
    "    green = (0, 128, 0)\n",
    "    \n",
    "    def save():\n",
    "        filename = 'C:\\\\Users\\Saunak\\Documents\\GitHub\\RegionalCharacterDetectionUsingCNN\\Dataset\\Dataset\\SinglePrediction\\image.jpg'\n",
    "        image.save(filename)\n",
    "        \n",
    "    def paint(event):\n",
    "        x1, y1 = (event.x - 1), (event.y - 1)\n",
    "        x2, y2 = (event.x + 1), (event.y + 1)\n",
    "        cv.create_oval(x1, y1, x2, y2, fill = 'black', width = 40)\n",
    "        draw.line([x1, y1, x2, y2], fill = 'black', width = 40)\n",
    "        \n",
    "    root = Tk()\n",
    "    \n",
    "    cv = Canvas(root, width = width, height = height, bg = 'white')\n",
    "    cv.pack()\n",
    "    \n",
    "    image = PIL.Image.new('RGB', (width, height), white)\n",
    "    draw = ImageDraw.Draw(image)\n",
    "    \n",
    "    cv.pack(expand = YES, fill = BOTH)\n",
    "    cv.bind(\"<B1-Motion>\", paint)\n",
    "    \n",
    "    button = Button(text = 'Save', command = save)\n",
    "    button.pack()\n",
    "    \n",
    "    root.mainloop()"
   ]
  },
  {
   "cell_type": "code",
   "execution_count": 92,
   "metadata": {},
   "outputs": [],
   "source": [
    "def determine_character(res):\n",
    "    if res == 0:\n",
    "        print('prediction : অ')\n",
    "    elif res == 1:\n",
    "        print('prediction : আ')\n",
    "    elif res == 2:\n",
    "        print('prediction : ই')\n",
    "    elif res == 3:\n",
    "        print('prediction : ঈ')\n",
    "    elif res == 4:\n",
    "        print('prediction : উ')\n",
    "    elif res == 5:\n",
    "        print('prediction : ঊ')\n",
    "    elif res == 6:\n",
    "        print('prediction : ঋ')\n",
    "    elif res == 7:\n",
    "        print('prediction : এ')\n",
    "    elif res == 8:\n",
    "        print('prediction : ঐ')\n",
    "    elif res == 9:\n",
    "        print('prediction : ও')\n",
    "    elif res == 10:\n",
    "        print('prediction : ঔ')\n",
    "    elif res == 11:\n",
    "        print('prediction : ক')\n",
    "    elif res == 12:\n",
    "        print('prediction : খ')\n",
    "    elif res == 13:\n",
    "        print('prediction : গ')\n",
    "    elif res == 14:\n",
    "        print('prediction : ঘ')\n",
    "    elif res == 15:\n",
    "        print('prediction : ঙ')\n",
    "    elif res == 16:\n",
    "        print('prediction : চ')\n",
    "    elif res == 17:\n",
    "        print('prediction : ছ')\n",
    "    elif res == 18:\n",
    "        print('prediction : জ')\n",
    "    elif res == 19:\n",
    "        print('prediction : ঝ')\n",
    "    elif res == 20:\n",
    "        print('prediction : ঞ')\n",
    "    elif res == 21:\n",
    "        print('prediction : ট')\n",
    "    elif res == 22:\n",
    "        print('prediction : ঠ')\n",
    "    elif res == 23:\n",
    "        print('prediction : ড')\n",
    "    elif res == 24:\n",
    "        print('prediction : ঢ')\n",
    "    elif res == 25:\n",
    "        print('prediction : ণ')\n",
    "    elif res == 26:\n",
    "        print('prediction : ত')\n",
    "    elif res == 27:\n",
    "        print('prediction : থ')\n",
    "    elif res == 28:\n",
    "        print('prediction : দ')\n",
    "    elif res == 29:\n",
    "        print('prediction : ধ')\n",
    "    elif res == 30:\n",
    "        print('prediction : ন')\n",
    "    elif res == 31:\n",
    "        print('prediction : প')\n",
    "    elif res == 32:\n",
    "        print('prediction : ফ')\n",
    "    elif res == 33:\n",
    "        print('prediction : ব')\n",
    "    elif res == 34:\n",
    "        print('prediction : ভ')\n",
    "    elif res == 35:\n",
    "        print('prediction : ম')\n",
    "    elif res == 36:\n",
    "        print('prediction : য')\n",
    "    elif res == 37:\n",
    "        print('prediction : র')\n",
    "    elif res == 38:\n",
    "        print('prediction : ল')\n",
    "    elif res == 39:\n",
    "        print('prediction : শ')\n",
    "    elif res == 40:\n",
    "        print('prediction : ষ')\n",
    "    elif res == 41:\n",
    "        print('prediction : স')\n",
    "    elif res == 42:\n",
    "        print('prediction : হ')\n",
    "    elif res == 43:\n",
    "        print('prediction : ড়')\n",
    "    elif res == 44:\n",
    "        print('prediction : ঢ়')\n",
    "    elif res == 45:\n",
    "        print('prediction : য়')\n",
    "    elif res == 46:\n",
    "        print('prediction : ৎ')\n",
    "    elif res == 47:\n",
    "        print('prediction : ং')\n",
    "    elif res == 48:\n",
    "        print('prediction : ঃ')\n",
    "    else:\n",
    "        print('prediction : ঁ')"
   ]
  },
  {
   "cell_type": "code",
   "execution_count": null,
   "metadata": {},
   "outputs": [],
   "source": []
  },
  {
   "cell_type": "code",
   "execution_count": 226,
   "metadata": {},
   "outputs": [],
   "source": [
    "import numpy as np\n",
    "\n",
    "def single_prediction(test_img):\n",
    "    test_img_arr = image.img_to_array(test_img)\n",
    "    test_img_arr = np.expand_dims(test_img_arr, axis = 0)\n",
    "    prediction = classifier.predict(test_img_arr)\n",
    "    result = np.argmax(prediction, axis = 1)\n",
    "    print(result)\n",
    "    #determine_character(result)"
   ]
  },
  {
   "cell_type": "code",
   "execution_count": 200,
   "metadata": {},
   "outputs": [],
   "source": [
    "def delete_created_image():\n",
    "    os.remove('C:\\\\Users\\Saunak\\Documents\\GitHub\\RegionalCharacterDetectionUsingCNN\\Dataset\\Dataset\\SinglePrediction\\image.jpg')"
   ]
  },
  {
   "cell_type": "code",
   "execution_count": 201,
   "metadata": {},
   "outputs": [],
   "source": [
    "import matplotlib.pyplot as plt\n",
    "\n",
    "def draw_n_guess_the_character():\n",
    "    create_new_image()\n",
    "    test_img = image.load_img('C:\\\\Users\\Saunak\\Documents\\GitHub\\RegionalCharacterDetectionUsingCNN\\Dataset\\Dataset\\SinglePrediction\\image.jpg', target_size = (28, 28, 3))\n",
    "    single_prediction(test_img)\n",
    "    plt.imshow(test_img)\n",
    "    delete_created_image()"
   ]
  },
  {
   "cell_type": "code",
   "execution_count": 203,
   "metadata": {},
   "outputs": [
    {
     "name": "stdout",
     "output_type": "stream",
     "text": [
      "1/1 [==============================] - 0s 31ms/step\n",
      "prediction : ভ\n"
     ]
    },
    {
     "data": {
      "image/png": "[encoded data removed]",
      "text/plain": [
       "<Figure size 640x480 with 1 Axes>"
      ]
     },
     "metadata": {},
     "output_type": "display_data"
    }
   ],
   "source": [
    "draw_n_guess_the_character()\n"
   ]
  }
 ],
 "metadata": {
  "kernelspec": {
   "display_name": "Python 3.10.7 64-bit",
   "language": "python",
   "name": "python3"
  },
  "language_info": {
   "codemirror_mode": {
    "name": "ipython",
    "version": 3
   },
   "file_extension": ".py",
   "mimetype": "text/x-python",
   "name": "python",
   "nbconvert_exporter": "python",
   "pygments_lexer": "ipython3",
   "version": "3.10.7"
  },
  "vscode": {
   "interpreter": {
    "hash": "d45f43cf4df4209586cf220d0f9bc2e9e2f42bfdeffbbcd11e52e62333eff2c8"
   }
  }
 },
 "nbformat": 4,
 "nbformat_minor": 4
}
